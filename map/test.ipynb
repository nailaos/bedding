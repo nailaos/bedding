{
 "cells": [
  {
   "cell_type": "markdown",
   "metadata": {},
   "source": [
    "- 导入需要的库，以及一些初始化"
   ]
  },
  {
   "cell_type": "code",
   "execution_count": null,
   "metadata": {},
   "outputs": [],
   "source": [
    "import numpy as np\n",
    "\n",
    "# thresholds = [(45, 70, -26, 19, 13, 62), (20, 50, -40, 40, -70, -10)]\n",
    "# ...\n",
    "\n",
    "my_map = np.zeros((8,8), dtype = np.int32)"
   ]
  },
  {
   "cell_type": "markdown",
   "metadata": {},
   "source": [
    "- 多次重复计算，确定识别到的色块的个数"
   ]
  },
  {
   "cell_type": "code",
   "execution_count": null,
   "metadata": {},
   "outputs": [],
   "source": [
    "n = 0\n",
    "# ...\n",
    "my_points = np.zeros((n, 3), dtype=np.float64)"
   ]
  },
  {
   "cell_type": "markdown",
   "metadata": {},
   "source": [
    "- 多次计算平均值，获得色块的稳定信息(是否需要考虑该循环是否识别到了错误的?)"
   ]
  },
  {
   "cell_type": "code",
   "execution_count": null,
   "metadata": {},
   "outputs": [],
   "source": [
    "num = 0\n",
    "x = 0\n",
    "y = 0\n",
    "kind = 1\n",
    "for i in range(8):\n",
    "    # ...\n",
    "    num = num + 1\n",
    "    my_points[i, 0] = (my_points[i, 0] + x) / num\n",
    "    my_points[i, 1] = (my_points[i, 1] + y) / num\n",
    "    my_points[i, 2] = kind"
   ]
  },
  {
   "cell_type": "markdown",
   "metadata": {},
   "source": [
    "- 对points进行排序，确定地图的范围和单个色块的大小(原点的位置不确定，所以可能需要先旋转得到正确的points)"
   ]
  },
  {
   "cell_type": "code",
   "execution_count": null,
   "metadata": {},
   "outputs": [],
   "source": [
    "points1 = np.argsort(my_points[:, 0])\n",
    "points = np.argsort(my_points[:, 1])\n",
    "xl = (points[n - 1, 0] - points[0, 0]) / n\n",
    "yl = (points[n - 1, 1] - points[0, 1]) / n"
   ]
  },
  {
   "cell_type": "markdown",
   "metadata": {},
   "source": [
    "- 实现色块和地图的映射关系"
   ]
  },
  {
   "cell_type": "code",
   "execution_count": null,
   "metadata": {},
   "outputs": [],
   "source": [
    "for i in range(n):\n",
    "    x = (points[i, 0] - points[0, 0]) / xl\n",
    "    y = (points[i, 1] - points[0, 1]) / yl\n",
    "    x_rounded = np.round(x).astype(int)\n",
    "    y_rounded = np.round(y).astype(int)\n",
    "    my_map[x_rounded, y_rounded] = points[i, 2]"
   ]
  },
  {
   "cell_type": "markdown",
   "metadata": {},
   "source": [
    "- 发送信息"
   ]
  },
  {
   "cell_type": "code",
   "execution_count": null,
   "metadata": {},
   "outputs": [],
   "source": [
    "write_string = \"\"\n",
    "for row in my_map:\n",
    "    for element in row:\n",
    "        write_string += str(element)"
   ]
  }
 ],
 "metadata": {
  "language_info": {
   "name": "python"
  }
 },
 "nbformat": 4,
 "nbformat_minor": 2
}
